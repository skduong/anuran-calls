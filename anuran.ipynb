{
  "nbformat": 4,
  "nbformat_minor": 0,
  "metadata": {
    "colab": {
      "name": "Untitled0.ipynb",
      "provenance": []
    },
    "kernelspec": {
      "name": "python3",
      "display_name": "Python 3"
    },
    "language_info": {
      "name": "python"
    }
  },
  "cells": [
    {
      "cell_type": "markdown",
      "metadata": {
        "id": "tkt-hLQC3D5a"
      },
      "source": [
        "# Data Loading and Previewing\n",
        "\n"
      ]
    },
    {
      "cell_type": "code",
      "metadata": {
        "id": "UC9G-gBw1TA_",
        "colab": {
          "base_uri": "https://localhost:8080/",
          "height": 241
        },
        "outputId": "0ac6c036-0d7c-47a0-c204-49254e0e0e46"
      },
      "source": [
        "import pandas as pd\n",
        "\n",
        "rawData = pd.read_csv('https://raw.githubusercontent.com/skduong/anuran-calls/master/Frogs_MFCCs.csv')\n",
        "rawData.head()"
      ],
      "execution_count": 1,
      "outputs": [
        {
          "output_type": "execute_result",
          "data": {
            "text/html": [
              "<div>\n",
              "<style scoped>\n",
              "    .dataframe tbody tr th:only-of-type {\n",
              "        vertical-align: middle;\n",
              "    }\n",
              "\n",
              "    .dataframe tbody tr th {\n",
              "        vertical-align: top;\n",
              "    }\n",
              "\n",
              "    .dataframe thead th {\n",
              "        text-align: right;\n",
              "    }\n",
              "</style>\n",
              "<table border=\"1\" class=\"dataframe\">\n",
              "  <thead>\n",
              "    <tr style=\"text-align: right;\">\n",
              "      <th></th>\n",
              "      <th>MFCCs_ 1</th>\n",
              "      <th>MFCCs_ 2</th>\n",
              "      <th>MFCCs_ 3</th>\n",
              "      <th>MFCCs_ 4</th>\n",
              "      <th>MFCCs_ 5</th>\n",
              "      <th>MFCCs_ 6</th>\n",
              "      <th>MFCCs_ 7</th>\n",
              "      <th>MFCCs_ 8</th>\n",
              "      <th>MFCCs_ 9</th>\n",
              "      <th>MFCCs_10</th>\n",
              "      <th>MFCCs_11</th>\n",
              "      <th>MFCCs_12</th>\n",
              "      <th>MFCCs_13</th>\n",
              "      <th>MFCCs_14</th>\n",
              "      <th>MFCCs_15</th>\n",
              "      <th>MFCCs_16</th>\n",
              "      <th>MFCCs_17</th>\n",
              "      <th>MFCCs_18</th>\n",
              "      <th>MFCCs_19</th>\n",
              "      <th>MFCCs_20</th>\n",
              "      <th>MFCCs_21</th>\n",
              "      <th>MFCCs_22</th>\n",
              "      <th>Family</th>\n",
              "      <th>Genus</th>\n",
              "      <th>Species</th>\n",
              "      <th>RecordID</th>\n",
              "    </tr>\n",
              "  </thead>\n",
              "  <tbody>\n",
              "    <tr>\n",
              "      <th>0</th>\n",
              "      <td>1.0</td>\n",
              "      <td>0.152936</td>\n",
              "      <td>-0.105586</td>\n",
              "      <td>0.200722</td>\n",
              "      <td>0.317201</td>\n",
              "      <td>0.260764</td>\n",
              "      <td>0.100945</td>\n",
              "      <td>-0.150063</td>\n",
              "      <td>-0.171128</td>\n",
              "      <td>0.124676</td>\n",
              "      <td>0.188654</td>\n",
              "      <td>-0.075622</td>\n",
              "      <td>-0.156436</td>\n",
              "      <td>0.082245</td>\n",
              "      <td>0.135752</td>\n",
              "      <td>-0.024017</td>\n",
              "      <td>-0.108351</td>\n",
              "      <td>-0.077623</td>\n",
              "      <td>-0.009568</td>\n",
              "      <td>0.057684</td>\n",
              "      <td>0.118680</td>\n",
              "      <td>0.014038</td>\n",
              "      <td>Leptodactylidae</td>\n",
              "      <td>Adenomera</td>\n",
              "      <td>AdenomeraAndre</td>\n",
              "      <td>1</td>\n",
              "    </tr>\n",
              "    <tr>\n",
              "      <th>1</th>\n",
              "      <td>1.0</td>\n",
              "      <td>0.171534</td>\n",
              "      <td>-0.098975</td>\n",
              "      <td>0.268425</td>\n",
              "      <td>0.338672</td>\n",
              "      <td>0.268353</td>\n",
              "      <td>0.060835</td>\n",
              "      <td>-0.222475</td>\n",
              "      <td>-0.207693</td>\n",
              "      <td>0.170883</td>\n",
              "      <td>0.270958</td>\n",
              "      <td>-0.095004</td>\n",
              "      <td>-0.254341</td>\n",
              "      <td>0.022786</td>\n",
              "      <td>0.163320</td>\n",
              "      <td>0.012022</td>\n",
              "      <td>-0.090974</td>\n",
              "      <td>-0.056510</td>\n",
              "      <td>-0.035303</td>\n",
              "      <td>0.020140</td>\n",
              "      <td>0.082263</td>\n",
              "      <td>0.029056</td>\n",
              "      <td>Leptodactylidae</td>\n",
              "      <td>Adenomera</td>\n",
              "      <td>AdenomeraAndre</td>\n",
              "      <td>1</td>\n",
              "    </tr>\n",
              "    <tr>\n",
              "      <th>2</th>\n",
              "      <td>1.0</td>\n",
              "      <td>0.152317</td>\n",
              "      <td>-0.082973</td>\n",
              "      <td>0.287128</td>\n",
              "      <td>0.276014</td>\n",
              "      <td>0.189867</td>\n",
              "      <td>0.008714</td>\n",
              "      <td>-0.242234</td>\n",
              "      <td>-0.219153</td>\n",
              "      <td>0.232538</td>\n",
              "      <td>0.266064</td>\n",
              "      <td>-0.072827</td>\n",
              "      <td>-0.237384</td>\n",
              "      <td>0.050791</td>\n",
              "      <td>0.207338</td>\n",
              "      <td>0.083536</td>\n",
              "      <td>-0.050691</td>\n",
              "      <td>-0.023590</td>\n",
              "      <td>-0.066722</td>\n",
              "      <td>-0.025083</td>\n",
              "      <td>0.099108</td>\n",
              "      <td>0.077162</td>\n",
              "      <td>Leptodactylidae</td>\n",
              "      <td>Adenomera</td>\n",
              "      <td>AdenomeraAndre</td>\n",
              "      <td>1</td>\n",
              "    </tr>\n",
              "    <tr>\n",
              "      <th>3</th>\n",
              "      <td>1.0</td>\n",
              "      <td>0.224392</td>\n",
              "      <td>0.118985</td>\n",
              "      <td>0.329432</td>\n",
              "      <td>0.372088</td>\n",
              "      <td>0.361005</td>\n",
              "      <td>0.015501</td>\n",
              "      <td>-0.194347</td>\n",
              "      <td>-0.098181</td>\n",
              "      <td>0.270375</td>\n",
              "      <td>0.267279</td>\n",
              "      <td>-0.162258</td>\n",
              "      <td>-0.317084</td>\n",
              "      <td>-0.011567</td>\n",
              "      <td>0.100413</td>\n",
              "      <td>-0.050224</td>\n",
              "      <td>-0.136009</td>\n",
              "      <td>-0.177037</td>\n",
              "      <td>-0.130498</td>\n",
              "      <td>-0.054766</td>\n",
              "      <td>-0.018691</td>\n",
              "      <td>0.023954</td>\n",
              "      <td>Leptodactylidae</td>\n",
              "      <td>Adenomera</td>\n",
              "      <td>AdenomeraAndre</td>\n",
              "      <td>1</td>\n",
              "    </tr>\n",
              "    <tr>\n",
              "      <th>4</th>\n",
              "      <td>1.0</td>\n",
              "      <td>0.087817</td>\n",
              "      <td>-0.068345</td>\n",
              "      <td>0.306967</td>\n",
              "      <td>0.330923</td>\n",
              "      <td>0.249144</td>\n",
              "      <td>0.006884</td>\n",
              "      <td>-0.265423</td>\n",
              "      <td>-0.172700</td>\n",
              "      <td>0.266434</td>\n",
              "      <td>0.332695</td>\n",
              "      <td>-0.100749</td>\n",
              "      <td>-0.298524</td>\n",
              "      <td>0.037439</td>\n",
              "      <td>0.219153</td>\n",
              "      <td>0.062837</td>\n",
              "      <td>-0.048885</td>\n",
              "      <td>-0.053074</td>\n",
              "      <td>-0.088550</td>\n",
              "      <td>-0.031346</td>\n",
              "      <td>0.108610</td>\n",
              "      <td>0.079244</td>\n",
              "      <td>Leptodactylidae</td>\n",
              "      <td>Adenomera</td>\n",
              "      <td>AdenomeraAndre</td>\n",
              "      <td>1</td>\n",
              "    </tr>\n",
              "  </tbody>\n",
              "</table>\n",
              "</div>"
            ],
            "text/plain": [
              "   MFCCs_ 1  MFCCs_ 2  MFCCs_ 3  ...      Genus         Species  RecordID\n",
              "0       1.0  0.152936 -0.105586  ...  Adenomera  AdenomeraAndre         1\n",
              "1       1.0  0.171534 -0.098975  ...  Adenomera  AdenomeraAndre         1\n",
              "2       1.0  0.152317 -0.082973  ...  Adenomera  AdenomeraAndre         1\n",
              "3       1.0  0.224392  0.118985  ...  Adenomera  AdenomeraAndre         1\n",
              "4       1.0  0.087817 -0.068345  ...  Adenomera  AdenomeraAndre         1\n",
              "\n",
              "[5 rows x 26 columns]"
            ]
          },
          "metadata": {
            "tags": []
          },
          "execution_count": 1
        }
      ]
    },
    {
      "cell_type": "code",
      "metadata": {
        "colab": {
          "base_uri": "https://localhost:8080/"
        },
        "id": "qmQbIM7m4CV0",
        "outputId": "51fe9596-5d1c-47ed-b922-29c303f2fde3"
      },
      "source": [
        "data = rawData[rawData.columns[:23]] #focus on Family classification\n",
        "data['Family'].value_counts() #get class balance"
      ],
      "execution_count": 2,
      "outputs": [
        {
          "output_type": "execute_result",
          "data": {
            "text/plain": [
              "Leptodactylidae    4420\n",
              "Hylidae            2165\n",
              "Dendrobatidae       542\n",
              "Bufonidae            68\n",
              "Name: Family, dtype: int64"
            ]
          },
          "metadata": {
            "tags": []
          },
          "execution_count": 2
        }
      ]
    },
    {
      "cell_type": "markdown",
      "metadata": {
        "id": "dUOEYukN4tdI"
      },
      "source": [
        "Rebalancing is needed: undersample Leptodactylidae, oversamle Dendrobatidae with SMOTE, remove Bufondidae"
      ]
    },
    {
      "cell_type": "code",
      "metadata": {
        "colab": {
          "base_uri": "https://localhost:8080/"
        },
        "id": "udMA5lh67GCI",
        "outputId": "5cb524f9-9cee-4e61-c91d-a6d587bf7dd6"
      },
      "source": [
        "import numpy as np\n",
        "from imblearn.over_sampling import SMOTE\n",
        "\n",
        "lepto = data.loc[data['Family'] == 'Leptodactylidae']\n",
        "hyli = data.loc[data['Family'] == 'Hylidae']\n",
        "dendro = data.loc[data['Family'] == 'Dendrobatidae']\n",
        "\n",
        "#oversample dendro classes to match dendro\n",
        "subset = pd.concat([hyli, dendro])\n",
        "X = subset.drop(['Family'], 1)\n",
        "y = subset['Family']\n",
        "oversample = SMOTE()\n",
        "X, y = oversample.fit_resample(X, y) #X = data matrix, y = labels\n",
        "oversample_df = pd.concat([pd.DataFrame(X), pd.DataFrame(y)], 1)\n",
        "oversample_df.columns = lepto.columns.values\n",
        "#pd.Series(y).value_counts()\n",
        "\n",
        "#randomly undersample lepto by 1420 cases\n",
        "undersample = lepto.drop(np.random.choice(lepto.index, 1420, False))\n",
        "\n",
        "#rebalanced data\n",
        "data = pd.concat([undersample, oversample_df])\n",
        "data['Family'].value_counts()"
      ],
      "execution_count": 3,
      "outputs": [
        {
          "output_type": "stream",
          "text": [
            "/usr/local/lib/python3.7/dist-packages/sklearn/externals/six.py:31: FutureWarning: The module is deprecated in version 0.21 and will be removed in version 0.23 since we've dropped support for Python 2.7. Please rely on the official version of six (https://pypi.org/project/six/).\n",
            "  \"(https://pypi.org/project/six/).\", FutureWarning)\n",
            "/usr/local/lib/python3.7/dist-packages/sklearn/utils/deprecation.py:144: FutureWarning: The sklearn.neighbors.base module is  deprecated in version 0.22 and will be removed in version 0.24. The corresponding classes / functions should instead be imported from sklearn.neighbors. Anything that cannot be imported from sklearn.neighbors is now part of the private API.\n",
            "  warnings.warn(message, FutureWarning)\n",
            "/usr/local/lib/python3.7/dist-packages/sklearn/utils/deprecation.py:87: FutureWarning: Function safe_indexing is deprecated; safe_indexing is deprecated in version 0.22 and will be removed in version 0.24.\n",
            "  warnings.warn(msg, category=FutureWarning)\n"
          ],
          "name": "stderr"
        },
        {
          "output_type": "execute_result",
          "data": {
            "text/plain": [
              "Leptodactylidae    3000\n",
              "Dendrobatidae      2165\n",
              "Hylidae            2165\n",
              "Name: Family, dtype: int64"
            ]
          },
          "metadata": {
            "tags": []
          },
          "execution_count": 3
        }
      ]
    },
    {
      "cell_type": "markdown",
      "metadata": {
        "id": "oCLS3pDvOQiA"
      },
      "source": [
        "Improved balanced compared to before. Not perfect, but it's a compromise between losing too many Leptodactylidae cases and having heavy imbalance with the major class."
      ]
    },
    {
      "cell_type": "code",
      "metadata": {
        "id": "ANUGlaGM-I1O",
        "colab": {
          "base_uri": "https://localhost:8080/",
          "height": 317
        },
        "outputId": "101f9ac9-5bee-4a05-c377-a08126f69ab3"
      },
      "source": [
        "lepto = data.loc[data['Family'] == 'Leptodactylidae']\n",
        "dendro = data.loc[data['Family'] == 'Dendrobatidae']\n",
        "hyli = data.loc[data['Family'] == 'Hylidae']\n",
        "\n",
        "data.describe()"
      ],
      "execution_count": 5,
      "outputs": [
        {
          "output_type": "execute_result",
          "data": {
            "text/html": [
              "<div>\n",
              "<style scoped>\n",
              "    .dataframe tbody tr th:only-of-type {\n",
              "        vertical-align: middle;\n",
              "    }\n",
              "\n",
              "    .dataframe tbody tr th {\n",
              "        vertical-align: top;\n",
              "    }\n",
              "\n",
              "    .dataframe thead th {\n",
              "        text-align: right;\n",
              "    }\n",
              "</style>\n",
              "<table border=\"1\" class=\"dataframe\">\n",
              "  <thead>\n",
              "    <tr style=\"text-align: right;\">\n",
              "      <th></th>\n",
              "      <th>MFCCs_ 1</th>\n",
              "      <th>MFCCs_ 2</th>\n",
              "      <th>MFCCs_ 3</th>\n",
              "      <th>MFCCs_ 4</th>\n",
              "      <th>MFCCs_ 5</th>\n",
              "      <th>MFCCs_ 6</th>\n",
              "      <th>MFCCs_ 7</th>\n",
              "      <th>MFCCs_ 8</th>\n",
              "      <th>MFCCs_ 9</th>\n",
              "      <th>MFCCs_10</th>\n",
              "      <th>MFCCs_11</th>\n",
              "      <th>MFCCs_12</th>\n",
              "      <th>MFCCs_13</th>\n",
              "      <th>MFCCs_14</th>\n",
              "      <th>MFCCs_15</th>\n",
              "      <th>MFCCs_16</th>\n",
              "      <th>MFCCs_17</th>\n",
              "      <th>MFCCs_18</th>\n",
              "      <th>MFCCs_19</th>\n",
              "      <th>MFCCs_20</th>\n",
              "      <th>MFCCs_21</th>\n",
              "      <th>MFCCs_22</th>\n",
              "    </tr>\n",
              "  </thead>\n",
              "  <tbody>\n",
              "    <tr>\n",
              "      <th>count</th>\n",
              "      <td>7330.000000</td>\n",
              "      <td>7330.000000</td>\n",
              "      <td>7330.000000</td>\n",
              "      <td>7330.000000</td>\n",
              "      <td>7330.000000</td>\n",
              "      <td>7330.000000</td>\n",
              "      <td>7330.000000</td>\n",
              "      <td>7330.000000</td>\n",
              "      <td>7330.000000</td>\n",
              "      <td>7330.000000</td>\n",
              "      <td>7330.000000</td>\n",
              "      <td>7330.000000</td>\n",
              "      <td>7330.000000</td>\n",
              "      <td>7330.000000</td>\n",
              "      <td>7330.000000</td>\n",
              "      <td>7330.000000</td>\n",
              "      <td>7330.000000</td>\n",
              "      <td>7330.000000</td>\n",
              "      <td>7330.000000</td>\n",
              "      <td>7330.000000</td>\n",
              "      <td>7330.000000</td>\n",
              "      <td>7330.000000</td>\n",
              "    </tr>\n",
              "    <tr>\n",
              "      <th>mean</th>\n",
              "      <td>0.990916</td>\n",
              "      <td>0.321586</td>\n",
              "      <td>0.258918</td>\n",
              "      <td>0.394478</td>\n",
              "      <td>0.152139</td>\n",
              "      <td>0.122357</td>\n",
              "      <td>0.014456</td>\n",
              "      <td>-0.013803</td>\n",
              "      <td>0.085127</td>\n",
              "      <td>0.058419</td>\n",
              "      <td>-0.068449</td>\n",
              "      <td>0.008165</td>\n",
              "      <td>0.084662</td>\n",
              "      <td>0.006824</td>\n",
              "      <td>-0.037600</td>\n",
              "      <td>0.006899</td>\n",
              "      <td>0.030184</td>\n",
              "      <td>0.011710</td>\n",
              "      <td>-0.020888</td>\n",
              "      <td>-0.038266</td>\n",
              "      <td>0.020413</td>\n",
              "      <td>0.057272</td>\n",
              "    </tr>\n",
              "    <tr>\n",
              "      <th>std</th>\n",
              "      <td>0.064535</td>\n",
              "      <td>0.208506</td>\n",
              "      <td>0.280895</td>\n",
              "      <td>0.170987</td>\n",
              "      <td>0.172774</td>\n",
              "      <td>0.116815</td>\n",
              "      <td>0.182645</td>\n",
              "      <td>0.119450</td>\n",
              "      <td>0.186218</td>\n",
              "      <td>0.142114</td>\n",
              "      <td>0.180453</td>\n",
              "      <td>0.163629</td>\n",
              "      <td>0.207084</td>\n",
              "      <td>0.162353</td>\n",
              "      <td>0.191063</td>\n",
              "      <td>0.124647</td>\n",
              "      <td>0.151435</td>\n",
              "      <td>0.080226</td>\n",
              "      <td>0.085184</td>\n",
              "      <td>0.088769</td>\n",
              "      <td>0.079091</td>\n",
              "      <td>0.116639</td>\n",
              "    </tr>\n",
              "    <tr>\n",
              "      <th>min</th>\n",
              "      <td>-0.251179</td>\n",
              "      <td>-0.673025</td>\n",
              "      <td>-0.436028</td>\n",
              "      <td>-0.472676</td>\n",
              "      <td>-0.539779</td>\n",
              "      <td>-0.410417</td>\n",
              "      <td>-0.452555</td>\n",
              "      <td>-0.474302</td>\n",
              "      <td>-0.513460</td>\n",
              "      <td>-0.952266</td>\n",
              "      <td>-0.901989</td>\n",
              "      <td>-0.799441</td>\n",
              "      <td>-0.644116</td>\n",
              "      <td>-0.590380</td>\n",
              "      <td>-0.717156</td>\n",
              "      <td>-0.498675</td>\n",
              "      <td>-0.421480</td>\n",
              "      <td>-0.759322</td>\n",
              "      <td>-0.680745</td>\n",
              "      <td>-0.360914</td>\n",
              "      <td>-0.430812</td>\n",
              "      <td>-0.375461</td>\n",
              "    </tr>\n",
              "    <tr>\n",
              "      <th>25%</th>\n",
              "      <td>1.000000</td>\n",
              "      <td>0.187045</td>\n",
              "      <td>0.046558</td>\n",
              "      <td>0.289549</td>\n",
              "      <td>0.060797</td>\n",
              "      <td>0.036471</td>\n",
              "      <td>-0.124962</td>\n",
              "      <td>-0.102094</td>\n",
              "      <td>-0.054338</td>\n",
              "      <td>-0.003240</td>\n",
              "      <td>-0.228334</td>\n",
              "      <td>-0.098610</td>\n",
              "      <td>-0.074550</td>\n",
              "      <td>-0.099302</td>\n",
              "      <td>-0.209588</td>\n",
              "      <td>-0.086523</td>\n",
              "      <td>-0.118198</td>\n",
              "      <td>-0.034625</td>\n",
              "      <td>-0.080540</td>\n",
              "      <td>-0.097100</td>\n",
              "      <td>-0.035174</td>\n",
              "      <td>-0.022517</td>\n",
              "    </tr>\n",
              "    <tr>\n",
              "      <th>50%</th>\n",
              "      <td>1.000000</td>\n",
              "      <td>0.306403</td>\n",
              "      <td>0.231146</td>\n",
              "      <td>0.393380</td>\n",
              "      <td>0.163856</td>\n",
              "      <td>0.113550</td>\n",
              "      <td>-0.025048</td>\n",
              "      <td>-0.007508</td>\n",
              "      <td>0.131719</td>\n",
              "      <td>0.066214</td>\n",
              "      <td>-0.065970</td>\n",
              "      <td>0.023505</td>\n",
              "      <td>0.073479</td>\n",
              "      <td>-0.016784</td>\n",
              "      <td>-0.048065</td>\n",
              "      <td>0.014432</td>\n",
              "      <td>0.037254</td>\n",
              "      <td>0.013773</td>\n",
              "      <td>-0.012165</td>\n",
              "      <td>-0.038144</td>\n",
              "      <td>0.010290</td>\n",
              "      <td>0.038473</td>\n",
              "    </tr>\n",
              "    <tr>\n",
              "      <th>75%</th>\n",
              "      <td>1.000000</td>\n",
              "      <td>0.434073</td>\n",
              "      <td>0.398207</td>\n",
              "      <td>0.530789</td>\n",
              "      <td>0.242629</td>\n",
              "      <td>0.199664</td>\n",
              "      <td>0.108792</td>\n",
              "      <td>0.064856</td>\n",
              "      <td>0.235993</td>\n",
              "      <td>0.138027</td>\n",
              "      <td>0.062539</td>\n",
              "      <td>0.097809</td>\n",
              "      <td>0.277494</td>\n",
              "      <td>0.130030</td>\n",
              "      <td>0.137894</td>\n",
              "      <td>0.078305</td>\n",
              "      <td>0.168227</td>\n",
              "      <td>0.062254</td>\n",
              "      <td>0.028743</td>\n",
              "      <td>0.015459</td>\n",
              "      <td>0.071801</td>\n",
              "      <td>0.164601</td>\n",
              "    </tr>\n",
              "    <tr>\n",
              "      <th>max</th>\n",
              "      <td>1.000000</td>\n",
              "      <td>1.000000</td>\n",
              "      <td>1.000000</td>\n",
              "      <td>1.000000</td>\n",
              "      <td>0.752246</td>\n",
              "      <td>0.964240</td>\n",
              "      <td>0.696887</td>\n",
              "      <td>0.551762</td>\n",
              "      <td>0.738033</td>\n",
              "      <td>0.522768</td>\n",
              "      <td>0.523033</td>\n",
              "      <td>0.669470</td>\n",
              "      <td>0.945710</td>\n",
              "      <td>0.566873</td>\n",
              "      <td>0.668924</td>\n",
              "      <td>0.670700</td>\n",
              "      <td>0.681157</td>\n",
              "      <td>0.614064</td>\n",
              "      <td>0.574209</td>\n",
              "      <td>0.467831</td>\n",
              "      <td>0.387363</td>\n",
              "      <td>0.432207</td>\n",
              "    </tr>\n",
              "  </tbody>\n",
              "</table>\n",
              "</div>"
            ],
            "text/plain": [
              "          MFCCs_ 1     MFCCs_ 2  ...     MFCCs_21     MFCCs_22\n",
              "count  7330.000000  7330.000000  ...  7330.000000  7330.000000\n",
              "mean      0.990916     0.321586  ...     0.020413     0.057272\n",
              "std       0.064535     0.208506  ...     0.079091     0.116639\n",
              "min      -0.251179    -0.673025  ...    -0.430812    -0.375461\n",
              "25%       1.000000     0.187045  ...    -0.035174    -0.022517\n",
              "50%       1.000000     0.306403  ...     0.010290     0.038473\n",
              "75%       1.000000     0.434073  ...     0.071801     0.164601\n",
              "max       1.000000     1.000000  ...     0.387363     0.432207\n",
              "\n",
              "[8 rows x 22 columns]"
            ]
          },
          "metadata": {
            "tags": []
          },
          "execution_count": 5
        }
      ]
    },
    {
      "cell_type": "markdown",
      "metadata": {
        "id": "9pBPobwiuFGU"
      },
      "source": [
        "#Evaluating Feature Discriminating Power "
      ]
    },
    {
      "cell_type": "markdown",
      "metadata": {
        "id": "_Wdfo_8tuZSc"
      },
      "source": [
        "To see if any of the MFCCs have more influence on class decision, the discriminating power for each feature, F, between disjoint classes CLi and CLj (with combined size N) will be calculated using:\n",
        "\n",
        "![image.png](data:image/png;base64,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)   ![image.png](data:image/png;base64,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)\n",
        "\n"
      ]
    },
    {
      "cell_type": "code",
      "metadata": {
        "id": "g-oZZnW9O13l",
        "outputId": "a21545f8-82c5-4ae7-9d8f-5ced26a28d4c",
        "colab": {
          "base_uri": "https://localhost:8080/"
        }
      },
      "source": [
        "def DP(i, j): #take 2 classes, give discriminating power between them for all 22 features\n",
        "  i = i.drop(['Family'],1); j = j.drop(['Family'],1)\n",
        "  N = len(i)+len(j)\n",
        "  sF = ((i.var()+j.var())/N)**0.5\n",
        "  DP = abs(i.mean()-j.mean())/sF\n",
        "  return DP.sort_values(0,False)\n",
        "\n",
        "ld = DP(lepto, dendro)\n",
        "dh = DP(dendro, hyli)\n",
        "lh = DP(lepto, hyli)\n",
        "\n",
        "print('Top 3 descriminating features for each pair of classes: \\n', 'Lepto & Dendro:\\n', ld.iloc[0:3], '\\n\\nDendro & Hyli:\\n',dh.iloc[0:3], '\\n\\nLepto & Hyli:\\n', lh.iloc[0:3], sep='')"
      ],
      "execution_count": 57,
      "outputs": [
        {
          "output_type": "stream",
          "text": [
            "Top 3 descriminating features for classes: \n",
            "Lepto & Dendro:\n",
            "MFCCs_17    159.209342\n",
            "MFCCs_15    120.418134\n",
            "MFCCs_19    115.412780\n",
            "dtype: float64\n",
            "\n",
            "Dendro & Hyli:\n",
            "MFCCs_ 3    92.045101\n",
            "MFCCs_14    77.600980\n",
            "MFCCs_16    70.627657\n",
            "dtype: float64\n",
            "\n",
            "Lepto & Hyli:\n",
            "MFCCs_19    89.496928\n",
            "MFCCs_22    86.511274\n",
            "MFCCs_17    72.955578\n",
            "dtype: float64\n"
          ],
          "name": "stdout"
        }
      ]
    },
    {
      "cell_type": "markdown",
      "metadata": {
        "id": "FFkqFD2_32_E"
      },
      "source": [
        "It appears that MFCCs 17 and 19 are the most influential in distinguishing Leptodactylidae frogs from the other 2. "
      ]
    },
    {
      "cell_type": "code",
      "metadata": {
        "id": "Is6fKXHZ4RQt",
        "outputId": "2605a95c-f7e9-47c8-e8fa-355d0e57233a",
        "colab": {
          "base_uri": "https://localhost:8080/",
          "height": 727
        }
      },
      "source": [
        "import matplotlib.pyplot as plt\n",
        "\n",
        "fig, axes = plt.subplots(nrows=1, ncols=3, figsize=(15,5))\n",
        "axes[0].hist(lepto['MFCCs_17'])\n",
        "axes[1].hist(dendro['MFCCs_17'])\n",
        "axes[2].hist(hyli['MFCCs_17'])\n",
        "\n",
        "fig, axes = plt.subplots(nrows=1, ncols=3, figsize=(15,5))\n",
        "axes[0].hist(lepto['MFCCs_19'])\n",
        "axes[1].hist(dendro['MFCCs_19'])\n",
        "axes[2].hist(hyli['MFCCs_19'])"
      ],
      "execution_count": 71,
      "outputs": [
        {
          "output_type": "execute_result",
          "data": {
            "text/plain": [
              "(array([1.000e+00, 5.000e+00, 5.800e+01, 6.440e+02, 1.287e+03, 1.420e+02,\n",
              "        2.400e+01, 2.000e+00, 1.000e+00, 1.000e+00]),\n",
              " array([-0.38965599, -0.2932695 , -0.196883  , -0.1004965 , -0.00411001,\n",
              "         0.09227649,  0.18866299,  0.28504948,  0.38143598,  0.47782248,\n",
              "         0.57420897]),\n",
              " <a list of 10 Patch objects>)"
            ]
          },
          "metadata": {
            "tags": []
          },
          "execution_count": 71
        },
        {
          "output_type": "display_data",
          "data": {
            "image/png": "[encoded data removed]",
            "text/plain": [
              "<Figure size 1080x360 with 3 Axes>"
            ]
          },
          "metadata": {
            "tags": [],
            "needs_background": "light"
          }
        },
        {
          "output_type": "display_data",
          "data": {
            "image/png": "[encoded data removed]",
            "text/plain": [
              "<Figure size 1080x360 with 3 Axes>"
            ]
          },
          "metadata": {
            "tags": [],
            "needs_background": "light"
          }
        }
      ]
    },
    {
      "cell_type": "markdown",
      "metadata": {
        "id": "2YHNi5YS7vc1"
      },
      "source": [
        "We can visually see why MFCCs 17 (top) & 19 (bottom) have such a high discriminating power. For each class, these values take on a distinct range (eg. MFCC17 is mostly positive for Leptodactylidae, negative for Dendrobatidae, and very close to zero for Hylidae). "
      ]
    },
    {
      "cell_type": "code",
      "metadata": {
        "id": "59cNj3Xw86lt"
      },
      "source": [
        ""
      ],
      "execution_count": null,
      "outputs": []
    },
    {
      "cell_type": "code",
      "metadata": {
        "id": "KGxGr99Du8LR",
        "outputId": "7bd195e2-1d0c-41e8-ced7-c3ff408509d2",
        "colab": {
          "base_uri": "https://localhost:8080/"
        }
      },
      "source": [
        "(abs(lepto.mean()-hyli.mean())/((lepto.var(axis=0)+hyli.var(axis=0))/(len(lepto)+len(hyli)))**0.5).sort_values(0,False)\n",
        "\n",
        "DP(lepto, hyli).iloc[0:3]"
      ],
      "execution_count": 52,
      "outputs": [
        {
          "output_type": "execute_result",
          "data": {
            "text/plain": [
              "MFCCs_19    89.496928\n",
              "MFCCs_22    86.511274\n",
              "MFCCs_17    72.955578\n",
              "dtype: float64"
            ]
          },
          "metadata": {
            "tags": []
          },
          "execution_count": 52
        }
      ]
    }
  ]
}