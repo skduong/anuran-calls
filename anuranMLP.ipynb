{
  "nbformat": 4,
  "nbformat_minor": 0,
  "metadata": {
    "colab": {
      "name": "anuranMLP.ipynb",
      "provenance": [],
      "collapsed_sections": []
    },
    "kernelspec": {
      "name": "python3",
      "display_name": "Python 3"
    },
    "language_info": {
      "name": "python"
    }
  },
  "cells": [
    {
      "cell_type": "markdown",
      "metadata": {
        "id": "3UlstAn4Y3nD"
      },
      "source": [
        "# Dataset"
      ]
    },
    {
      "cell_type": "code",
      "metadata": {
        "colab": {
          "base_uri": "https://localhost:8080/",
          "height": 241
        },
        "id": "142YLtsAYlQh",
        "outputId": "ef54a422-90f9-4924-a794-f957232841b0"
      },
      "source": [
        "import pandas as pd\n",
        "\n",
        "rawData = pd.read_csv('https://raw.githubusercontent.com/skduong/anuran-calls/master/Frogs_MFCCs.csv')\n",
        "data = rawData[rawData.columns[:23]] #focus on Family classification\n",
        "data.head()"
      ],
      "execution_count": 1,
      "outputs": [
        {
          "output_type": "execute_result",
          "data": {
            "text/html": [
              "<div>\n",
              "<style scoped>\n",
              "    .dataframe tbody tr th:only-of-type {\n",
              "        vertical-align: middle;\n",
              "    }\n",
              "\n",
              "    .dataframe tbody tr th {\n",
              "        vertical-align: top;\n",
              "    }\n",
              "\n",
              "    .dataframe thead th {\n",
              "        text-align: right;\n",
              "    }\n",
              "</style>\n",
              "<table border=\"1\" class=\"dataframe\">\n",
              "  <thead>\n",
              "    <tr style=\"text-align: right;\">\n",
              "      <th></th>\n",
              "      <th>MFCCs_ 1</th>\n",
              "      <th>MFCCs_ 2</th>\n",
              "      <th>MFCCs_ 3</th>\n",
              "      <th>MFCCs_ 4</th>\n",
              "      <th>MFCCs_ 5</th>\n",
              "      <th>MFCCs_ 6</th>\n",
              "      <th>MFCCs_ 7</th>\n",
              "      <th>MFCCs_ 8</th>\n",
              "      <th>MFCCs_ 9</th>\n",
              "      <th>MFCCs_10</th>\n",
              "      <th>MFCCs_11</th>\n",
              "      <th>MFCCs_12</th>\n",
              "      <th>MFCCs_13</th>\n",
              "      <th>MFCCs_14</th>\n",
              "      <th>MFCCs_15</th>\n",
              "      <th>MFCCs_16</th>\n",
              "      <th>MFCCs_17</th>\n",
              "      <th>MFCCs_18</th>\n",
              "      <th>MFCCs_19</th>\n",
              "      <th>MFCCs_20</th>\n",
              "      <th>MFCCs_21</th>\n",
              "      <th>MFCCs_22</th>\n",
              "      <th>Family</th>\n",
              "    </tr>\n",
              "  </thead>\n",
              "  <tbody>\n",
              "    <tr>\n",
              "      <th>0</th>\n",
              "      <td>1.0</td>\n",
              "      <td>0.152936</td>\n",
              "      <td>-0.105586</td>\n",
              "      <td>0.200722</td>\n",
              "      <td>0.317201</td>\n",
              "      <td>0.260764</td>\n",
              "      <td>0.100945</td>\n",
              "      <td>-0.150063</td>\n",
              "      <td>-0.171128</td>\n",
              "      <td>0.124676</td>\n",
              "      <td>0.188654</td>\n",
              "      <td>-0.075622</td>\n",
              "      <td>-0.156436</td>\n",
              "      <td>0.082245</td>\n",
              "      <td>0.135752</td>\n",
              "      <td>-0.024017</td>\n",
              "      <td>-0.108351</td>\n",
              "      <td>-0.077623</td>\n",
              "      <td>-0.009568</td>\n",
              "      <td>0.057684</td>\n",
              "      <td>0.118680</td>\n",
              "      <td>0.014038</td>\n",
              "      <td>Leptodactylidae</td>\n",
              "    </tr>\n",
              "    <tr>\n",
              "      <th>1</th>\n",
              "      <td>1.0</td>\n",
              "      <td>0.171534</td>\n",
              "      <td>-0.098975</td>\n",
              "      <td>0.268425</td>\n",
              "      <td>0.338672</td>\n",
              "      <td>0.268353</td>\n",
              "      <td>0.060835</td>\n",
              "      <td>-0.222475</td>\n",
              "      <td>-0.207693</td>\n",
              "      <td>0.170883</td>\n",
              "      <td>0.270958</td>\n",
              "      <td>-0.095004</td>\n",
              "      <td>-0.254341</td>\n",
              "      <td>0.022786</td>\n",
              "      <td>0.163320</td>\n",
              "      <td>0.012022</td>\n",
              "      <td>-0.090974</td>\n",
              "      <td>-0.056510</td>\n",
              "      <td>-0.035303</td>\n",
              "      <td>0.020140</td>\n",
              "      <td>0.082263</td>\n",
              "      <td>0.029056</td>\n",
              "      <td>Leptodactylidae</td>\n",
              "    </tr>\n",
              "    <tr>\n",
              "      <th>2</th>\n",
              "      <td>1.0</td>\n",
              "      <td>0.152317</td>\n",
              "      <td>-0.082973</td>\n",
              "      <td>0.287128</td>\n",
              "      <td>0.276014</td>\n",
              "      <td>0.189867</td>\n",
              "      <td>0.008714</td>\n",
              "      <td>-0.242234</td>\n",
              "      <td>-0.219153</td>\n",
              "      <td>0.232538</td>\n",
              "      <td>0.266064</td>\n",
              "      <td>-0.072827</td>\n",
              "      <td>-0.237384</td>\n",
              "      <td>0.050791</td>\n",
              "      <td>0.207338</td>\n",
              "      <td>0.083536</td>\n",
              "      <td>-0.050691</td>\n",
              "      <td>-0.023590</td>\n",
              "      <td>-0.066722</td>\n",
              "      <td>-0.025083</td>\n",
              "      <td>0.099108</td>\n",
              "      <td>0.077162</td>\n",
              "      <td>Leptodactylidae</td>\n",
              "    </tr>\n",
              "    <tr>\n",
              "      <th>3</th>\n",
              "      <td>1.0</td>\n",
              "      <td>0.224392</td>\n",
              "      <td>0.118985</td>\n",
              "      <td>0.329432</td>\n",
              "      <td>0.372088</td>\n",
              "      <td>0.361005</td>\n",
              "      <td>0.015501</td>\n",
              "      <td>-0.194347</td>\n",
              "      <td>-0.098181</td>\n",
              "      <td>0.270375</td>\n",
              "      <td>0.267279</td>\n",
              "      <td>-0.162258</td>\n",
              "      <td>-0.317084</td>\n",
              "      <td>-0.011567</td>\n",
              "      <td>0.100413</td>\n",
              "      <td>-0.050224</td>\n",
              "      <td>-0.136009</td>\n",
              "      <td>-0.177037</td>\n",
              "      <td>-0.130498</td>\n",
              "      <td>-0.054766</td>\n",
              "      <td>-0.018691</td>\n",
              "      <td>0.023954</td>\n",
              "      <td>Leptodactylidae</td>\n",
              "    </tr>\n",
              "    <tr>\n",
              "      <th>4</th>\n",
              "      <td>1.0</td>\n",
              "      <td>0.087817</td>\n",
              "      <td>-0.068345</td>\n",
              "      <td>0.306967</td>\n",
              "      <td>0.330923</td>\n",
              "      <td>0.249144</td>\n",
              "      <td>0.006884</td>\n",
              "      <td>-0.265423</td>\n",
              "      <td>-0.172700</td>\n",
              "      <td>0.266434</td>\n",
              "      <td>0.332695</td>\n",
              "      <td>-0.100749</td>\n",
              "      <td>-0.298524</td>\n",
              "      <td>0.037439</td>\n",
              "      <td>0.219153</td>\n",
              "      <td>0.062837</td>\n",
              "      <td>-0.048885</td>\n",
              "      <td>-0.053074</td>\n",
              "      <td>-0.088550</td>\n",
              "      <td>-0.031346</td>\n",
              "      <td>0.108610</td>\n",
              "      <td>0.079244</td>\n",
              "      <td>Leptodactylidae</td>\n",
              "    </tr>\n",
              "  </tbody>\n",
              "</table>\n",
              "</div>"
            ],
            "text/plain": [
              "   MFCCs_ 1  MFCCs_ 2  MFCCs_ 3  ...  MFCCs_21  MFCCs_22           Family\n",
              "0       1.0  0.152936 -0.105586  ...  0.118680  0.014038  Leptodactylidae\n",
              "1       1.0  0.171534 -0.098975  ...  0.082263  0.029056  Leptodactylidae\n",
              "2       1.0  0.152317 -0.082973  ...  0.099108  0.077162  Leptodactylidae\n",
              "3       1.0  0.224392  0.118985  ... -0.018691  0.023954  Leptodactylidae\n",
              "4       1.0  0.087817 -0.068345  ...  0.108610  0.079244  Leptodactylidae\n",
              "\n",
              "[5 rows x 23 columns]"
            ]
          },
          "metadata": {},
          "execution_count": 1
        }
      ]
    },
    {
      "cell_type": "markdown",
      "metadata": {
        "id": "BFEPTcnSY6aF"
      },
      "source": [
        "# Preprocessing/ Rebalancing"
      ]
    },
    {
      "cell_type": "code",
      "metadata": {
        "colab": {
          "base_uri": "https://localhost:8080/"
        },
        "id": "7ebH7Ju3Y9H8",
        "outputId": "a8e28947-1b53-4a59-c08c-05bd2cc92e2a"
      },
      "source": [
        "import numpy as np\n",
        "from imblearn.over_sampling import SMOTE\n",
        "\n",
        "lepto = data.loc[data['Family'] == 'Leptodactylidae']\n",
        "hyli = data.loc[data['Family'] == 'Hylidae']\n",
        "dendro = data.loc[data['Family'] == 'Dendrobatidae']\n",
        "\n",
        "#oversample dendro classes to match dendro\n",
        "subset = pd.concat([hyli, dendro])\n",
        "X = subset.drop(['Family'], 1)\n",
        "y = subset['Family']\n",
        "oversample = SMOTE()\n",
        "X, y = oversample.fit_resample(X, y) #X = data matrix, y = labels\n",
        "oversample_df = pd.concat([pd.DataFrame(X), pd.DataFrame(y)], 1)\n",
        "oversample_df.columns = lepto.columns.values\n",
        "#pd.Series(y).value_counts()\n",
        "\n",
        "#randomly undersample lepto by 1420 cases\n",
        "undersample = lepto.drop(np.random.choice(lepto.index, 1420, False))\n",
        "\n",
        "#rebalanced data\n",
        "data = pd.concat([undersample, oversample_df], ignore_index=True)\n",
        "data['Family'].value_counts()"
      ],
      "execution_count": 2,
      "outputs": [
        {
          "output_type": "stream",
          "name": "stderr",
          "text": [
            "/usr/local/lib/python3.7/dist-packages/sklearn/externals/six.py:31: FutureWarning: The module is deprecated in version 0.21 and will be removed in version 0.23 since we've dropped support for Python 2.7. Please rely on the official version of six (https://pypi.org/project/six/).\n",
            "  \"(https://pypi.org/project/six/).\", FutureWarning)\n",
            "/usr/local/lib/python3.7/dist-packages/sklearn/utils/deprecation.py:144: FutureWarning: The sklearn.neighbors.base module is  deprecated in version 0.22 and will be removed in version 0.24. The corresponding classes / functions should instead be imported from sklearn.neighbors. Anything that cannot be imported from sklearn.neighbors is now part of the private API.\n",
            "  warnings.warn(message, FutureWarning)\n",
            "/usr/local/lib/python3.7/dist-packages/sklearn/utils/deprecation.py:87: FutureWarning: Function safe_indexing is deprecated; safe_indexing is deprecated in version 0.22 and will be removed in version 0.24.\n",
            "  warnings.warn(msg, category=FutureWarning)\n"
          ]
        },
        {
          "output_type": "execute_result",
          "data": {
            "text/plain": [
              "Leptodactylidae    3000\n",
              "Hylidae            2165\n",
              "Dendrobatidae      2165\n",
              "Name: Family, dtype: int64"
            ]
          },
          "metadata": {},
          "execution_count": 2
        }
      ]
    },
    {
      "cell_type": "code",
      "metadata": {
        "id": "Ho5PbmPGZOQT"
      },
      "source": [
        "features = data[data.columns[:-1]].reset_index(drop=True)\n",
        "labels = data['Family'].reset_index(drop=True)\n",
        "#data.describe()"
      ],
      "execution_count": 3,
      "outputs": []
    },
    {
      "cell_type": "code",
      "metadata": {
        "id": "5yRbc-B7Z-PH"
      },
      "source": [
        "import numpy as np\n",
        "import functools\n",
        "import sklearn as sk\n",
        "from sklearn.preprocessing import StandardScaler\n",
        "from sklearn.model_selection import train_test_split\n",
        "from sklearn.decomposition import PCA\n",
        "import matplotlib.pyplot as plt"
      ],
      "execution_count": 4,
      "outputs": []
    },
    {
      "cell_type": "markdown",
      "metadata": {
        "id": "Lu3L1pgIdlTP"
      },
      "source": [
        "# Train/Test Split"
      ]
    },
    {
      "cell_type": "code",
      "metadata": {
        "id": "Oc6aVx6cZStz"
      },
      "source": [
        "#create train/test set\n",
        "train, test = train_test_split(data, test_size = 0.2, random_state = 0)\n",
        "\n",
        "x_train = train.drop(['Family'], axis=1)\n",
        "x_test = test.drop(['Family'], axis=1)\n",
        "\n",
        "y_train = train['Family']\n",
        "y_test = test['Family']"
      ],
      "execution_count": 5,
      "outputs": []
    },
    {
      "cell_type": "markdown",
      "metadata": {
        "id": "12Qh9dgcd1Pd"
      },
      "source": [
        "# Estimating Hidden Layer Sizes H*\n",
        "\n",
        "\n"
      ]
    },
    {
      "cell_type": "code",
      "metadata": {
        "colab": {
          "base_uri": "https://localhost:8080/",
          "height": 803
        },
        "id": "AXU1U8YQdUW2",
        "outputId": "f966ecde-6681-4a2e-c5df-795c2ee160b0"
      },
      "source": [
        "sfeatures = features.apply(lambda x: (x-x.mean())/x.std()) \n",
        "lepto = sfeatures.loc[data['Family'] == 'Leptodactylidae']\n",
        "hyli = sfeatures.loc[data['Family'] == 'Hylidae']\n",
        "dendro = sfeatures.loc[data['Family'] == 'Dendrobatidae']\n",
        "\n",
        "#H*:\n",
        "hi = []\n",
        "for i in [lepto, hyli, dendro]:\n",
        "  pca = PCA(n_components = 22)\n",
        "  pca.fit_transform(i)\n",
        "  pev = pca.explained_variance_ratio_.cumsum()\n",
        "  hi.append(np.where(pev >= 0.99)[0][0]+1)\n",
        "  plt.plot(pev, 'o'); plt.ylabel('PEV'); plt.xlabel('h'); plt.show() #plot PVE\n",
        "  \n",
        "h_star = sum(hi)"
      ],
      "execution_count": 7,
      "outputs": [
        {
          "output_type": "display_data",
          "data": {
            "image/png": "[encoded data removed]",
            "text/plain": [
              "<Figure size 432x288 with 1 Axes>"
            ]
          },
          "metadata": {
            "needs_background": "light"
          }
        },
        {
          "output_type": "display_data",
          "data": {
            "image/png": "[encoded data removed]",
            "text/plain": [
              "<Figure size 432x288 with 1 Axes>"
            ]
          },
          "metadata": {
            "needs_background": "light"
          }
        },
        {
          "output_type": "display_data",
          "data": {
            "image/png": "[encoded data removed]",
            "text/plain": [
              "<Figure size 432x288 with 1 Axes>"
            ]
          },
          "metadata": {
            "needs_background": "light"
          }
        }
      ]
    },
    {
      "cell_type": "code",
      "metadata": {
        "colab": {
          "base_uri": "https://localhost:8080/"
        },
        "id": "KNGqC08LetUm",
        "outputId": "b74640af-1ddb-4a34-8e0e-384e5bfde6d1"
      },
      "source": [
        "print('H*=',h_star)"
      ],
      "execution_count": 8,
      "outputs": [
        {
          "output_type": "stream",
          "name": "stdout",
          "text": [
            "H*= 48\n"
          ]
        }
      ]
    },
    {
      "cell_type": "markdown",
      "metadata": {
        "id": "5iiQOcxEiFR2"
      },
      "source": [
        "# MLP"
      ]
    },
    {
      "cell_type": "code",
      "metadata": {
        "colab": {
          "base_uri": "https://localhost:8080/",
          "height": 551
        },
        "id": "32gO_sxSfnJ_",
        "outputId": "9db58698-c38d-44e6-a8d7-b87f246e2708"
      },
      "source": [
        "import tensorflow as tf\n",
        "from tensorflow import keras\n",
        "from tensorflow.keras import layers, callbacks\n",
        "from tensorflow.keras.models import load_model\n",
        "tf.get_logger().setLevel('ERROR') #surpress logging \n",
        "\n",
        "def plotPerf(monitor):\n",
        "  plt.plot(monitor.model.history.history['loss'], label = 'Training loss')\n",
        "  plt.plot(monitor.model.history.history['val_loss'], label = 'Test loss')\n",
        "  plt.xlabel('Epoch'); plt.ylabel('Loss (CrossEntr)')\n",
        "  plt.legend(); plt.grid(True); plt.show()\n",
        "\n",
        "def ypred(x, model):\n",
        "  return list(map({0:'Deondrobatidae', 1:'Hylidae', 2:'Leptodactylidae'}.get, model.predict(x).argmax(axis = -1)))\n",
        "\n",
        "def conf(actu, pred):\n",
        "  y_actu = pd.Series(np.array(actu), name = 'Actual')\n",
        "  y_pred = pd.Series(pred, name = 'Predicted')\n",
        "  df_confusion = pd.crosstab(y_actu, y_pred)\n",
        "  return df_confusion/ df_confusion.sum()\n",
        "\n",
        "inputs = keras.Input(shape = (22,))\n",
        "x1 = layers.Dense(h_star ,activation = \"sigmoid\")(inputs)\n",
        "outputs = layers.Dense(3, activation = \"softmax\")(x1)\n",
        "model0 = keras.Model(inputs = inputs,outputs = outputs)\n",
        "model0.summary()\n",
        "\n",
        "optimizer = keras.optimizers.Adam()\n",
        "loss_fn = keras.losses.SparseCategoricalCrossentropy()\n",
        "model0.compile(optimizer = optimizer,loss = loss_fn, metrics = ['accuracy'])\n",
        "batch = round(len(train)**0.5)\n",
        "Monitor0 = model0.fit(x_train, y_train.astype('category').cat.codes, epochs = 800, batch_size = batch,\n",
        "                      validation_data = (x_test, y_test.astype('category').cat.codes), verbose = 0)\n",
        "\n",
        "print('MLP0:\\n')\n",
        "plotPerf(Monitor0) #visually find stabT, overfitT, stopT"
      ],
      "execution_count": 9,
      "outputs": [
        {
          "output_type": "stream",
          "name": "stdout",
          "text": [
            "Model: \"model\"\n",
            "_________________________________________________________________\n",
            "Layer (type)                 Output Shape              Param #   \n",
            "=================================================================\n",
            "input_1 (InputLayer)         [(None, 22)]              0         \n",
            "_________________________________________________________________\n",
            "dense (Dense)                (None, 48)                1104      \n",
            "_________________________________________________________________\n",
            "dense_1 (Dense)              (None, 3)                 147       \n",
            "=================================================================\n",
            "Total params: 1,251\n",
            "Trainable params: 1,251\n",
            "Non-trainable params: 0\n",
            "_________________________________________________________________\n",
            "MLP0:\n",
            "\n"
          ]
        },
        {
          "output_type": "display_data",
          "data": {
            "image/png": "[encoded data removed]",
            "text/plain": [
              "<Figure size 432x288 with 1 Axes>"
            ]
          },
          "metadata": {
            "needs_background": "light"
          }
        }
      ]
    },
    {
      "cell_type": "code",
      "metadata": {
        "colab": {
          "base_uri": "https://localhost:8080/"
        },
        "id": "kT9NN5LBjYGf",
        "outputId": "5f0e889f-4db7-401a-ecd3-78a81f14b094"
      },
      "source": [
        "stabT = 400\n",
        "\n",
        "class CustomSaver(keras.callbacks.Callback):\n",
        "    def on_epoch_end(self, epoch, logs={}):\n",
        "        if epoch == stabT:\n",
        "            self.model.save(\"modelh0_{}\".format(epoch))\n",
        "\n",
        "checkpoint = CustomSaver()\n",
        "inputs = keras.Input(shape = (22,))\n",
        "x1 = layers.Dense(h_star,activation = \"sigmoid\")(inputs)\n",
        "outputs = layers.Dense(3, activation = \"softmax\")(x1)\n",
        "\n",
        "model0 = keras.Model(inputs = inputs,outputs = outputs)\n",
        "model0.compile(optimizer = optimizer, loss = loss_fn,  metrics = ['accuracy'])\n",
        "model0.fit(x_train, y_train.astype('category').cat.codes, epochs = stabT+1, batch_size = batch,\n",
        "                      validation_data = (x_test, y_test.astype('category').cat.codes), callbacks = [checkpoint], verbose = 0)\n",
        "\n",
        "model0_stab = load_model(\"modelh0_{}\".format(stabT))\n",
        "trainConf0 = conf(y_train, ypred(x_train, model0_stab))\n",
        "print('MLP0 train:\\n', trainConf0)\n",
        "testConf0 = conf(y_test, ypred(x_test, model0_stab))\n",
        "print('\\nMLP0 test:\\n', testConf0)"
      ],
      "execution_count": 11,
      "outputs": [
        {
          "output_type": "stream",
          "name": "stdout",
          "text": [
            "MLP0 train:\n",
            " Predicted        Deondrobatidae   Hylidae  Leptodactylidae\n",
            "Actual                                                    \n",
            "Dendrobatidae          0.997662  0.001144         0.000000\n",
            "Hylidae                0.000584  0.987993         0.005824\n",
            "Leptodactylidae        0.001753  0.010863         0.994176\n",
            "\n",
            "MLP0 test:\n",
            " Predicted        Deondrobatidae   Hylidae  Leptodactylidae\n",
            "Actual                                                    \n",
            "Dendrobatidae          0.995633  0.000000         0.000000\n",
            "Hylidae                0.000000  0.983412         0.011945\n",
            "Leptodactylidae        0.004367  0.016588         0.988055\n"
          ]
        }
      ]
    }
  ]
}